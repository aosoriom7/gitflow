{
 "cells": [
  {
   "cell_type": "code",
   "execution_count": 3,
   "metadata": {},
   "outputs": [
    {
     "name": "stdout",
     "output_type": "stream",
     "text": [
      "la suma de 5 y 5 es 10\n",
      "la resta de 5 y 5 es 0\n",
      "el producto de 5 y 5 es 25\n",
      "el cuadrado de 5  es 25\n",
      "la raiz de 5  es 2.23606797749979\n",
      "el logaritmo natural de 5  es 1.6094379124341003\n"
     ]
    }
   ],
   "source": [
    "import clasesExm as exm\n",
    "\n",
    "a = 5\n",
    "b = 5\n",
    "\n",
    "print(f'la suma de {a} y {b} es {exm.suma(a,b)}')\n",
    "print(f'la resta de {b} y {a} es {exm.resta(a,b)}')\n",
    "print(f'el producto de {a} y {b} es {exm.multiplicar(a,b)}')\n",
    "print(f'el cuadrado de {a}  es {exm.cuadrado(a)}')\n",
    "print(f'la raiz de {a}  es {exm.raizcuad(a)}')\n",
    "print(f'el logaritmo natural de {a}  es {exm.logaritmo(a)}')"
   ]
  }
 ],
 "metadata": {
  "kernelspec": {
   "display_name": "Python 3",
   "language": "python",
   "name": "python3"
  },
  "language_info": {
   "codemirror_mode": {
    "name": "ipython",
    "version": 3
   },
   "file_extension": ".py",
   "mimetype": "text/x-python",
   "name": "python",
   "nbconvert_exporter": "python",
   "pygments_lexer": "ipython3",
   "version": "3.10.12"
  }
 },
 "nbformat": 4,
 "nbformat_minor": 2
}
